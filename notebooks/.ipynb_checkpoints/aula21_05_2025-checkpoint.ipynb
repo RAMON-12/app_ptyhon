{
 "cells": [
  {
   "cell_type": "markdown",
   "id": "7764b05f",
   "metadata": {},
   "source": [
    "# titulo do meu notebook\n",
    "## Subittulo do meu notebook\n",
    "### Titulo nivel 3 do meu noteook\n",
    "---"
   ]
  },
  {
   "cell_type": "markdown",
   "id": "474d98c9",
   "metadata": {},
   "source": [
    "Este e um texto do meu notebook. \n",
    "\n",
    "*este texto esta em italico.*\n",
    "**este texto esta em negrito.**\n",
    "***este texto esta em negrito e italico ao mesmo tempo.***\n"
   ]
  },
  {
   "cell_type": "markdown",
   "id": "e06afd03",
   "metadata": {},
   "source": [
    "- Macador 1\n",
    "- Macador 2\n",
    "- Macador 3\n",
    "\n",
    "\n",
    "1. Numeraçao 1\n",
    "2. Numeraçao 2\n",
    "3. Numeraçao 3\n",
    "4. Numeraçao 4\n",
    "\n"
   ]
  },
  {
   "cell_type": "markdown",
   "id": "752cf74c",
   "metadata": {},
   "source": [
    "para instalar o pandas , execute o comando pip install pandas terminal.\n",
    "\n",
    "este e um codigo php:\n",
    "```php\n",
    "<?php\n",
    "echo \"Alô mundo!\";\n",
    "?>\n",
    "```\n",
    "\n",
    "esre e um cofio en sql:\n",
    "\n",
    "```sql\n",
    "CREATE DATABASE IF NOY EXISTS `meu_banco`;\n",
    "```\t\n",
    "\n",
    "este e um codigo em java:\n",
    "```java\n",
    "class main {\n",
    "    public static void main(String[] args) {\n",
    "        System.out.println(\"Alô, mundo\");\n",
    "    }   \n",
    "}\n",
    "```\n",
    "\n",
    "entradas de dados\n",
    "``` java\n",
    "import java.util.Scanner;\n",
    "      public static void main(String[] args) {\n",
    "        Scanner scanner = new Scanner(System.in);\n",
    "        String nome;\n",
    "        String cpf;\n",
    "        int idade;\n",
    "        System.out.println(\"infome seu nome: \");\n",
    "        nome = scanner.nextLine();\n",
    "        System.out.println(\"infome seu cpf: \");\n",
    "        cpf = scanner.nextLine();\n",
    "        System.out.println(\"infome sua idade: \");\n",
    "        idade = scanner.nextInt();\n",
    "\n",
    "        scanner.nextLine();// Consumir a quebra de linha pendente\n",
    "\n",
    "        \n",
    "        System.out.println(\"nome: \" + nome + \".\");\n",
    "        System.out.println(\"cpf: \" + cpf + \".\");\n",
    "        System.out.println(\"idade: \" + idade + \".\");\n",
    "      }\n",
    "}"
   ]
  }
 ],
 "metadata": {
  "kernelspec": {
   "display_name": ".venv",
   "language": "python",
   "name": "python3"
  },
  "language_info": {
   "name": "python",
   "version": "3.13.2"
  }
 },
 "nbformat": 4,
 "nbformat_minor": 5
}

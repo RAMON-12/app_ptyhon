{
 "cells": [
  {
   "cell_type": "markdown",
   "id": "e6cfe4ee",
   "metadata": {},
   "source": [
    "# Notebook da aula do dia 22/05/2025\n",
    "..."
   ]
  },
  {
   "cell_type": "markdown",
   "id": "ba84a50b",
   "metadata": {},
   "source": [
    "## markdowns"
   ]
  },
  {
   "cell_type": "markdown",
   "id": "f15012a4",
   "metadata": {},
   "source": [
    "##Inserindo links em markdown\n",
    "\n",
    "Esta e a forma como se insere links em markdown:\n",
    "\n",
    "[Clique aqui para ir para pagina do GitHub do professor](https://github.com/alexmachadoribeiro)\n",
    "\n",
    "URL  do github do professor: <https://github.com/alexmachadoribeiro>\n",
    " \n"
   ]
  },
  {
   "cell_type": "markdown",
   "id": "723bfb29",
   "metadata": {},
   "source": [
    "### Quate\n",
    "\n",
    "\n",
    "> Este e um texto que ficará em destaque no seu \"notebook\". Este recurso e muito interessante para destacar um trecho do texto do seu \"notebook\", ou para inserir o conceito de alguma palavra por exemplo.\n",
    "\n",
    "\n",
    "> Este e um pargrafo que unicia um novo quate.\n",
    "\n",
    ">**Digita um texto que ficara em negrito dentro do quate, dando assim maior destaque ao texto.**"
   ]
  },
  {
   "cell_type": "markdown",
   "id": "bd1c58b4",
   "metadata": {},
   "source": [
    "## Criando tabelas \n",
    "Coluna 1 | Coluna 2\n",
    "-------- | --------\n",
    "Linha 1  | Correspondencia 1\n",
    "Linha 2  | Correspondencia 2\n",
    "Linha 3  | Correspondencia 3\n"
   ]
  },
  {
   "cell_type": "markdown",
   "id": "f70ee8fd",
   "metadata": {},
   "source": [
    "## HTML em markdown\n",
    "---"
   ]
  },
  {
   "cell_type": "markdown",
   "id": "0f283405",
   "metadata": {},
   "source": [
    "<h5> Este e um titulo Html dentro de um markdown</h5>\n",
    "<marquee> Texto em marquee </marquee>\n",
    "\n",
    "<div style= \"border: 1px solid black; border-radius: 5px; width: 100px; height: 100px; background-color: red\">\n",
    "</div>\n"
   ]
  },
  {
   "cell_type": "markdown",
   "id": "90b449e4",
   "metadata": {},
   "source": [
    "### Meu quate personalizado com HTML\n",
    "\n",
    "<div style= \"border: 2px groove #161616; border-radius: 5px; background-color: #0000ff; padding: 20px; box-shadow: 10px 15px black;\">\n",
    "    <p>\n",
    "    Este texto esta dentro de un div HTML que simula una quate en un markdown de um notebook. so para exemplificar algo.\n",
    "    </p>\n",
    "</div>\n"
   ]
  },
  {
   "cell_type": "markdown",
   "id": "9e4b58ea",
   "metadata": {},
   "source": [
    "### Criando de formulatorio em markdown \n",
    "\n",
    "<input type= \"checkbox\" /><span>Java </span><br />\n",
    "<input type= \"checkbox\" /><span>JavaScript </span><br />\n",
    "<input type= \"checkbox\" /><span>Python </span><br />\n",
    "<input type= \"checkbox\" /><span>C </span><br />\n",
    "<input type= \"checkbox\" /><span>PHP </span><br />\n",
    "<input type= \"checkbox\" /><span>C++ </span><br />\n",
    "<input type= \"checkbox\" /><span>C# </span><br />\n",
    "\n",
    "<br />\n",
    "<br />\n",
    "<input type= \"radio\" name= \"opcção\" /><span>Opição 1</span><br />\n",
    "<input type= \"radio\" name= \"opcção\" /><span>Opição 2</span><br />\n",
    "<input type= \"radio\" name= \"opcção\" /><span>Opição 3</span><br />\n",
    "<input type= \"radio\" name= \"opcção\" /><span>Opição 4</span><br />\n"
   ]
  },
  {
   "cell_type": "markdown",
   "id": "0f095251",
   "metadata": {},
   "source": [
    "## Inserindo imagens em markdown utilizando HTML\n",
    "<div style=\"display: flex; justify-content: center;\">\n",
    "    <img src=\"assets/rolando.png\" alt='mk' width= 500 />\n",
    "\n",
    "</div>\n",
    "<div style=\"display: flex; justify-content: center;\">\n",
    "    <h6> \"it has begun\" </h6>\n",
    "</div>\n"
   ]
  },
  {
   "cell_type": "code",
   "execution_count": 5,
   "id": "e787b9bb",
   "metadata": {},
   "outputs": [
    {
     "name": "stdout",
     "output_type": "stream",
     "text": [
      "celular com codigo em pyrhon\n"
     ]
    }
   ],
   "source": [
    "print(\"celular com codigo em pyrhon\")"
   ]
  },
  {
   "cell_type": "code",
   "execution_count": 6,
   "id": "60ffdbe0",
   "metadata": {},
   "outputs": [
    {
     "name": "stdout",
     "output_type": "stream",
     "text": [
      "o nome do filme e : o codigo da  20 \n"
     ]
    }
   ],
   "source": [
    "# declaraçao de variaveis\n",
    "x = 15\n",
    "y = 5 \n",
    "\n",
    "# saldo de dados\n",
    "print(f\"o nome do filme e : o codigo da  {x+y} \")"
   ]
  },
  {
   "cell_type": "markdown",
   "id": "a316ea05",
   "metadata": {},
   "source": [
    "# Fazendo iputs em celulas de codigo em notebooks:\n"
   ]
  },
  {
   "cell_type": "code",
   "execution_count": 9,
   "id": "609340f9",
   "metadata": {},
   "outputs": [
    {
     "name": "stdout",
     "output_type": "stream",
     "text": [
      "denis\n"
     ]
    }
   ],
   "source": [
    "nome = input(\"Digite seu nome: \")\n",
    "print(nome)"
   ]
  },
  {
   "cell_type": "code",
   "execution_count": 10,
   "id": "a433610b",
   "metadata": {},
   "outputs": [
    {
     "name": "stdout",
     "output_type": "stream",
     "text": [
      "15\n",
      "denis\n"
     ]
    }
   ],
   "source": [
    "print(x)\n",
    "print(nome)"
   ]
  }
 ],
 "metadata": {
  "kernelspec": {
   "display_name": "Python 3 (ipykernel)",
   "language": "python",
   "name": "python3"
  },
  "language_info": {
   "codemirror_mode": {
    "name": "ipython",
    "version": 3
   },
   "file_extension": ".py",
   "mimetype": "text/x-python",
   "name": "python",
   "nbconvert_exporter": "python",
   "pygments_lexer": "ipython3",
   "version": "3.13.2"
  }
 },
 "nbformat": 4,
 "nbformat_minor": 5
}
